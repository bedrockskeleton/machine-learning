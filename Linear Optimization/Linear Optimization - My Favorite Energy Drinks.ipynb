{
 "cells": [
  {
   "cell_type": "markdown",
   "metadata": {},
   "source": [
    "### Installing Dependencies"
   ]
  },
  {
   "cell_type": "code",
   "execution_count": 2,
   "metadata": {
    "colab": {
     "base_uri": "https://localhost:8080/"
    },
    "id": "LpBoIhCbnURc",
    "outputId": "d787c169-ad27-446c-be4d-0a41629eed17"
   },
   "outputs": [
    {
     "name": "stdout",
     "output_type": "stream",
     "text": [
      "Requirement already satisfied: cplex in c:\\users\\brock\\anaconda3\\lib\\site-packages (22.1.2.0)\n",
      "Requirement already satisfied: docplex in c:\\users\\brock\\anaconda3\\lib\\site-packages (2.29.241)\n",
      "Requirement already satisfied: six in c:\\users\\brock\\anaconda3\\lib\\site-packages (from docplex) (1.16.0)\n"
     ]
    }
   ],
   "source": [
    "!pip install cplex\n",
    "!pip install docplex\n",
    "from docplex.mp.model import Model"
   ]
  },
  {
   "cell_type": "markdown",
   "metadata": {},
   "source": [
    "### Defining the Model"
   ]
  },
  {
   "cell_type": "code",
   "execution_count": 651,
   "metadata": {
    "id": "L_ppaVrtnghR"
   },
   "outputs": [],
   "source": [
    "energyModel = Model(name=\"My Favorite Energy Drinks\")"
   ]
  },
  {
   "cell_type": "markdown",
   "metadata": {},
   "source": [
    "### Creating a class to house each of our energy drinks and their nutrition facts"
   ]
  },
  {
   "cell_type": "code",
   "execution_count": 654,
   "metadata": {},
   "outputs": [],
   "source": [
    "class energyDrink:\n",
    "    drinks = []\n",
    "    def __init__(self, name, serving, caffeine, calories, sugar, b12, cost, model):\n",
    "        self.name = name\n",
    "        self.serv = serving\n",
    "        self.caf = caffeine/serving\n",
    "        self.cal = calories/serving\n",
    "        self.sug = sugar/serving\n",
    "        self.b12 = (2.4 * (100/b12))/serving # converting percentage to micrograms per fluid ounce\n",
    "        # 2.4 mcg is the daily recommendation of vitamin B12 for those 19 years or older according to the National Institutes of Health\n",
    "        self.cost = cost/serving\n",
    "        self.var = model.continuous_var(name=f'Ounces of {name}')\n",
    "        energyDrink.drinks.append(self)\n",
    "\n",
    "    def varName(self):\n",
    "        return f'Fluid ounces of {self.name}'\n",
    "\n",
    "    def describe(self):\n",
    "        print(f'{self.name} stats per fluid ounce:\\n\\t${self.cost:.2f}\\n\\t{self.caf:.3f}mg of caffeine\\n\\t{self.cal:.3f} calories\\n\\t{self.sug:.3f} grams of sugar\\n\\t{self.b12:.3f} micrograms of vitamin B12')"
   ]
  },
  {
   "cell_type": "markdown",
   "metadata": {},
   "source": [
    "### Creating the Drink Objects\n",
    "**Links:**\n",
    "- [Peach Redbull]('https://a.co/d/3SlTlgr')\n",
    "- [Pipeline Punch Monster]('https://a.co/d/2R8Gc4o')\n",
    "- [Celcius Cola]('https://a.co/d/dnUJ96j')"
   ]
  },
  {
   "cell_type": "code",
   "execution_count": 657,
   "metadata": {
    "id": "dQcIxPx1nnJx"
   },
   "outputs": [
    {
     "name": "stdout",
     "output_type": "stream",
     "text": [
      "Peach Redbull stats per fluid ounce:\n",
      "\t$0.19\n",
      "\t9.524mg of caffeine\n",
      "\t13.095 calories\n",
      "\t3.095 grams of sugar\n",
      "\t0.357 micrograms of vitamin B12\n",
      "Pipeline Punch Monster stats per fluid ounce:\n",
      "\t$0.12\n",
      "\t10.000mg of caffeine\n",
      "\t11.875 calories\n",
      "\t2.875 grams of sugar\n",
      "\t0.031 micrograms of vitamin B12\n",
      "Celcius Cola stats per fluid ounce:\n",
      "\t$0.16\n",
      "\t16.667mg of caffeine\n",
      "\t0.833 calories\n",
      "\t0.000 grams of sugar\n",
      "\t0.080 micrograms of vitamin B12\n"
     ]
    },
    {
     "data": {
      "text/plain": [
       "[None, None, None]"
      ]
     },
     "execution_count": 657,
     "metadata": {},
     "output_type": "execute_result"
    }
   ],
   "source": [
    "R = energyDrink('Peach Redbull',\n",
    "                serving = 8.4, # In fluid ounces\n",
    "                caffeine = 80, # In milligrams\n",
    "                calories = 110,\n",
    "                sugar = 26,\n",
    "                b12 = 80, # In percent of daily value\n",
    "                cost = 38.99/24, # Cost derived from a 24 pack off of Amazon\n",
    "                model = energyModel)\n",
    "\n",
    "M = energyDrink('Pipeline Punch Monster',\n",
    "                serving = 16,\n",
    "                caffeine = 160,\n",
    "                calories = 190,\n",
    "                sugar = 46,\n",
    "                b12 = 490,\n",
    "                cost = 28.36/15, # Cost derived from 15 pack off of Amazon \n",
    "                model = energyModel)\n",
    "\n",
    "C = energyDrink('Celcius Cola',\n",
    "                serving = 12,\n",
    "                caffeine = 200,\n",
    "                calories = 10,\n",
    "                sugar = 0,\n",
    "                b12 = 250,\n",
    "                cost = 22.98/12, # Cost derived from a 12 pack off of Amazon\n",
    "                model = energyModel)\n",
    "\n",
    "[drink.describe() for drink in energyDrink.drinks] # Using my describe method on all the drinks"
   ]
  },
  {
   "cell_type": "markdown",
   "metadata": {},
   "source": [
    "### Scenario 1: Getting 200mg of caffeine and the recommended amount of B12"
   ]
  },
  {
   "cell_type": "code",
   "execution_count": 666,
   "metadata": {
    "id": "KWqL2XxlntxJ"
   },
   "outputs": [
    {
     "name": "stdout",
     "output_type": "stream",
     "text": [
      "Warning: Model name contains whitespaces: |My Favorite Energy Drinks: Scenario 1|\n"
     ]
    }
   ],
   "source": [
    "energyModel.name = \"My Favorite Energy Drinks: Scenario 1\"\n",
    "energyModel.remove_constraints(energyModel.iter_constraints()) # Removing constraints from other scenarios\n",
    "constr1 = energyModel.add_constraint(energyModel.sum([drink.caf*drink.var for drink in energyDrink.drinks])<=400) # Can't have more than 400mg of caffeine\n",
    "constr2 = energyModel.add_constraint(energyModel.sum([drink.caf*drink.var for drink in energyDrink.drinks])>=200) # I want to consume at least 200mg of caffeine\n",
    "constr3 = energyModel.add_constraint(energyModel.sum([drink.b12*drink.var for drink in energyDrink.drinks])>=2.4) # I want the daily recommended amount of vitamin B12\n",
    "\n",
    "energyModel.minimize(R.cost*R.var + M.cost*M.var + C.cost*C.var) # Minimizing for cost"
   ]
  },
  {
   "cell_type": "markdown",
   "metadata": {},
   "source": [
    "### Scenario 2: Getting 300mg of caffeine but under the recommended sugar intake"
   ]
  },
  {
   "cell_type": "code",
   "execution_count": 620,
   "metadata": {},
   "outputs": [],
   "source": [
    "energyModel.name = \"My Favorite Energy Drinks: Scenario 2\"\n",
    "energyModel.remove_constraints(energyModel.iter_constraints()) # Removing constraints from other scenarios\n",
    "constr1 = energyModel.add_constraint(energyModel.sum([drink.caf*drink.var for drink in energyDrink.drinks])<=400) # Can't have more than 400mg of caffeine\n",
    "constr2 = energyModel.add_constraint(energyModel.sum([drink.caf*drink.var for drink in energyDrink.drinks])>=300) # I want to consume at least 200mg of caffeine\n",
    "constr3 = energyModel.add_constraint(energyModel.sum([drink.sug*drink.var for drink in energyDrink.drinks])<=36) # Max recommended sugar intake for men\n",
    "\n",
    "energyModel.minimize(R.cost*R.var + M.cost*M.var + C.cost*C.var) # Minimizing for cost"
   ]
  },
  {
   "cell_type": "markdown",
   "metadata": {},
   "source": [
    "### Scenario 3: Getting as much vitamin B12 within a 6 dollar budget"
   ]
  },
  {
   "cell_type": "code",
   "execution_count": 660,
   "metadata": {},
   "outputs": [],
   "source": [
    "energyModel.name = \"My Favorite Energy Drinks: Scenario 3\"\n",
    "energyModel.remove_constraints(energyModel.iter_constraints()) # Removing constraints from other scenarios\n",
    "constr1 = energyModel.add_constraint(energyModel.sum([drink.cost*drink.var for drink in energyDrink.drinks])<=6) # Can't have more than 400mg of caffeine\n",
    "constr2 = energyModel.add_constraint(energyModel.sum([drink.cal*drink.var for drink in energyDrink.drinks])>=300) # I want to consume at least 200mg of caffeine\n",
    "\n",
    "energyModel.maximize(R.b12*R.var + M.b12*M.var + C.b12*C.var) # Maximizing for B12"
   ]
  },
  {
   "cell_type": "markdown",
   "metadata": {},
   "source": [
    "### Scenario 4: I want EXACTLY 347mg of caffeine AND maximum calories"
   ]
  },
  {
   "cell_type": "code",
   "execution_count": 642,
   "metadata": {},
   "outputs": [],
   "source": [
    "energyModel.name = \"My Favorite Energy Drinks: Scenario 4\"\n",
    "energyModel.remove_constraints(energyModel.iter_constraints()) # Removing constraints from other scenarios\n",
    "constr1 = energyModel.add_constraint(energyModel.sum([drink.caf*drink.var for drink in energyDrink.drinks])==347)\n",
    "\n",
    "energyModel.maximize(R.cal*R.var + M.cal*M.var + C.cal*C.var) # Maximizing for calories"
   ]
  },
  {
   "cell_type": "markdown",
   "metadata": {},
   "source": [
    "### Solve the Selected Scenario"
   ]
  },
  {
   "cell_type": "code",
   "execution_count": 668,
   "metadata": {
    "id": "8z6Ihv-jn0Ap"
   },
   "outputs": [
    {
     "name": "stdout",
     "output_type": "stream",
     "text": [
      "Model: My Favorite Energy Drinks: Scenario 1\n",
      " - number of variables: 3\n",
      "   - binary=0, integer=0, continuous=3\n",
      " - number of constraints: 3\n",
      "   - linear=3\n",
      " - parameters: defaults\n",
      " - objective: minimize\n",
      " - problem type is: LP\n"
     ]
    }
   ],
   "source": [
    "energyModel.print_information()"
   ]
  },
  {
   "cell_type": "code",
   "execution_count": 670,
   "metadata": {
    "id": "DctCCnoDn9dy"
   },
   "outputs": [
    {
     "name": "stdout",
     "output_type": "stream",
     "text": [
      "solution for: My Favorite Energy Drinks: Scenario 1\n",
      "objective: 2.388\n",
      "status: OPTIMAL_SOLUTION(2)\n",
      "Ounces of Peach Redbull = 4.624\n",
      "Ounces of Celcius Cola = 9.358\n"
     ]
    }
   ],
   "source": [
    "sol = energyModel.solve()\n",
    "sol.display()"
   ]
  },
  {
   "cell_type": "code",
   "execution_count": null,
   "metadata": {},
   "outputs": [],
   "source": []
  }
 ],
 "metadata": {
  "colab": {
   "provenance": []
  },
  "kernelspec": {
   "display_name": "Python 3 (ipykernel)",
   "language": "python",
   "name": "python3"
  },
  "language_info": {
   "codemirror_mode": {
    "name": "ipython",
    "version": 3
   },
   "file_extension": ".py",
   "mimetype": "text/x-python",
   "name": "python",
   "nbconvert_exporter": "python",
   "pygments_lexer": "ipython3",
   "version": "3.10.16"
  }
 },
 "nbformat": 4,
 "nbformat_minor": 4
}
